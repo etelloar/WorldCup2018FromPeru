{
 "cells": [
  {
   "cell_type": "code",
   "execution_count": 1,
   "metadata": {},
   "outputs": [],
   "source": [
    "# Initial imports\n",
    "import numpy as np\n",
    "import pandas as pd \n",
    "from pandas import DataFrame, Series\n",
    "import matplotlib.pyplot as plt\n",
    "import seaborn as sns\n",
    "from scipy import stats\n",
    "%matplotlib inline\n",
    "\n",
    "#import random\n",
    "import urllib.request\n",
    "import os\n",
    "from bs4 import BeautifulSoup\n",
    "import warnings\n",
    "warnings.filterwarnings('ignore')"
   ]
  },
  {
   "cell_type": "code",
   "execution_count": 93,
   "metadata": {},
   "outputs": [],
   "source": [
    "url = \"https://en.wikipedia.org/wiki/2018_FIFA_World_Cup_squads\"\n",
    "html = urllib.request.urlopen(url).read().decode('utf-8')\n",
    "soup = BeautifulSoup(html)\n",
    "jugadores = soup.find_all('table', attrs={'class':'sortable wikitable plainrowheaders'})\n",
    "columns = ['Grupo','Pais','Pos', 'Name', 'Captain','Age', 'Caps', 'Goals', 'Club']\n",
    "data = DataFrame(columns=columns)\n",
    "conteq = 0\n",
    "for contador in range(1,40):    \n",
    "    grupos = soup.find_all('li', attrs={'class':'toclevel-1 tocsection-'+str(contador)})\n",
    "    if len(grupos)>0:\n",
    "        grupo = grupos[0].find_all('span',attrs={'class':'toctext'})\n",
    "        for i in range (0,5):\n",
    "           if i==0:  \n",
    "               grp = grupo[i].getText() #grupo\n",
    "           else:\n",
    "               p =grupo[i].getText()\n",
    "               rows = jugadores[conteq].find_all('tr')\n",
    "               conteq+=1\n",
    "               indicador = 1\n",
    "               while indicador <  len(rows) :\n",
    "                    cells = rows[indicador].find_all(['td','th'])\n",
    "                    indicador+=1\n",
    "                    if len(cells) > 1 :\n",
    "                       pid= cells[1].getText()\n",
    "                       \n",
    "                       name=cells[2].getText()\n",
    "                       if name.find('(captain)')>0:\n",
    "                             captain='Si'\n",
    "                             name=name[0:name.find('(captain)')]\n",
    "                             name=name.strip() \n",
    "                       else :  \n",
    "                             captain='No'   \n",
    "                       age =cells[3].getText()\n",
    "                       caps=cells[4].getText()\n",
    "                       goals=cells[5].getText()\n",
    "                       club =cells[6].getText()\n",
    "                       player_data = DataFrame([[grp,p,pid, name,captain, age,caps, goals, club]]) \n",
    "                       player_data.columns = columns\n",
    "                       data = data.append(player_data, ignore_index=True) \n",
    "data.to_csv('wcupplayer.csv', encoding='utf-8')"
   ]
  },
  {
   "cell_type": "code",
   "execution_count": null,
   "metadata": {},
   "outputs": [],
   "source": []
  },
  {
   "cell_type": "code",
   "execution_count": null,
   "metadata": {},
   "outputs": [],
   "source": []
  },
  {
   "cell_type": "code",
   "execution_count": null,
   "metadata": {},
   "outputs": [],
   "source": []
  },
  {
   "cell_type": "code",
   "execution_count": null,
   "metadata": {},
   "outputs": [],
   "source": []
  }
 ],
 "metadata": {
  "kernelspec": {
   "display_name": "Python 3",
   "language": "python",
   "name": "python3"
  },
  "language_info": {
   "codemirror_mode": {
    "name": "ipython",
    "version": 3
   },
   "file_extension": ".py",
   "mimetype": "text/x-python",
   "name": "python",
   "nbconvert_exporter": "python",
   "pygments_lexer": "ipython3",
   "version": "3.6.4"
  }
 },
 "nbformat": 4,
 "nbformat_minor": 2
}
